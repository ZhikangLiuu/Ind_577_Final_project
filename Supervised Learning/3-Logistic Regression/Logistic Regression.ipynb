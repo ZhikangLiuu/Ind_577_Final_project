{
 "cells": [
  {
   "cell_type": "markdown",
   "id": "0d476268",
   "metadata": {},
   "source": [
    "# Logistic Regression\n",
    "\n",
    "\n",
    "## Introduction\n",
    "In this Jupyter notebook, we will employ the Gradient Descent Logistic Regression model to investigate the Titanic dataset. Our aim is to explore the potential of logistic regression in predicting categorical outcomes from this dataset, which could involve identifying whether passages survive or not based on existing information(feature).By applying logistic regression, we hope to uncover underlying patterns within the surviving features that influence these outcomes.\n",
    "\n",
    "## Dataset \n",
    "The Titanic dataset contains demographic and passenger information from 891 of the 2,224 passengers and crew on board the Titanic,such as survived, pclass, sex, age and so on.In this case, we only select five features: pclass,sex,age,fare,embarked with the response survived(0 or 1)."
   ]
  },
  {
   "cell_type": "markdown",
   "id": "a74b95a1",
   "metadata": {},
   "source": [
    "Loading Titanic dataset"
   ]
  },
  {
   "cell_type": "code",
   "execution_count": 11,
   "id": "86908e91",
   "metadata": {},
   "outputs": [
    {
     "name": "stdout",
     "output_type": "stream",
     "text": [
      "    pclass   age     fare  sex_male  embarked_Q  embarked_S\n",
      "1        1  38.0  71.2833     False       False       False\n",
      "3        1  35.0  53.1000     False       False        True\n",
      "6        1  54.0  51.8625      True       False        True\n",
      "10       3   4.0  16.7000     False       False        True\n",
      "11       1  58.0  26.5500     False       False        True\n",
      "1     1\n",
      "3     1\n",
      "6     0\n",
      "10    1\n",
      "11    1\n",
      "Name: survived, dtype: int64\n"
     ]
    }
   ],
   "source": [
    "import seaborn as sns\n",
    "import pandas as pd\n",
    "from sklearn.model_selection import train_test_split\n",
    "from sklearn.linear_model import LogisticRegression\n",
    "from sklearn.metrics import classification_report, confusion_matrix, accuracy_score, f1_score\n",
    "\n",
    "# Load the dataset\n",
    "titanic = sns.load_dataset('titanic')\n",
    "\n",
    "# Drop rows with missing 'embarked', 'deck', and 'age' data for simplicity\n",
    "titanic = titanic.dropna(subset=['embarked', 'age', 'deck'])\n",
    "\n",
    "# Select features and target\n",
    "X = titanic[['pclass', 'sex', 'age', 'fare', 'embarked']]\n",
    "y = titanic['survived']\n",
    "\n",
    "# Convert categorical variables into dummy/indicator variables\n",
    "X = pd.get_dummies(X, drop_first=True)\n",
    "\n",
    "# Display the first few rows of the prepared dataset\n",
    "print(X.head())\n",
    "print(y.head())\n"
   ]
  },
  {
   "cell_type": "code",
   "execution_count": 12,
   "id": "93ef1e4e",
   "metadata": {},
   "outputs": [],
   "source": [
    "# Split the data into training and test sets\n",
    "X_train, X_test, y_train, y_test = train_test_split(X, y, test_size=0.3, random_state=42)\n",
    "\n",
    "# Initialize and fit Logistic Regression\n",
    "model = LogisticRegression()\n",
    "model.fit(X_train, y_train)\n",
    "\n",
    "# Make predictions and evaluate the model\n",
    "y_pred = model.predict(X_test)\n"
   ]
  },
  {
   "cell_type": "markdown",
   "id": "a51985d8",
   "metadata": {},
   "source": [
    "Model evaluation"
   ]
  },
  {
   "cell_type": "code",
   "execution_count": 13,
   "id": "7508c993",
   "metadata": {},
   "outputs": [
    {
     "name": "stdout",
     "output_type": "stream",
     "text": [
      "Accuracy: 0.5818181818181818\n",
      "F1 Score: 0.6349206349206349\n",
      "Weighted F1 Score: 0.5852077001013172\n",
      "              precision    recall  f1-score   support\n",
      "\n",
      "           0       0.48      0.55      0.51        22\n",
      "           1       0.67      0.61      0.63        33\n",
      "\n",
      "    accuracy                           0.58        55\n",
      "   macro avg       0.57      0.58      0.57        55\n",
      "weighted avg       0.59      0.58      0.59        55\n",
      "\n",
      "[[12 10]\n",
      " [13 20]]\n"
     ]
    }
   ],
   "source": [
    "# Calculate accuracy\n",
    "accuracy = accuracy_score(y_test, y_pred)\n",
    "print(f'Accuracy: {accuracy}')\n",
    "\n",
    "# Calculate F1 score\n",
    "f1 = f1_score(y_test, y_pred, average='binary')  # Use 'binary' if you have binary classification\n",
    "print(f'F1 Score: {f1}')\n",
    "\n",
    "# For multi-class classification, you might want to compute the F1 score for each class\n",
    "f1_weighted = f1_score(y_test, y_pred, average='weighted')  # 'weighted' accounts for label imbalance\n",
    "print(f'Weighted F1 Score: {f1_weighted}')\n",
    "\n",
    "# Print the classification report and confusion matrix\n",
    "print(classification_report(y_test, y_pred))\n",
    "print(confusion_matrix(y_test, y_pred))"
   ]
  },
  {
   "cell_type": "code",
   "execution_count": 14,
   "id": "987178a0",
   "metadata": {},
   "outputs": [
    {
     "data": {
      "image/png": "[encoded data removed]",
      "text/plain": [
       "<Figure size 800x600 with 2 Axes>"
      ]
     },
     "metadata": {},
     "output_type": "display_data"
    }
   ],
   "source": [
    "import matplotlib.pyplot as plt\n",
    "import seaborn as sns\n",
    "from sklearn.metrics import confusion_matrix\n",
    "\n",
    "# Assuming y_test and y_pred are defined and contain the true labels and the predicted labels, respectively\n",
    "conf_matrix = confusion_matrix(y_test, y_pred)\n",
    "\n",
    "# Plot the confusion matrix\n",
    "plt.figure(figsize=(8, 6))\n",
    "sns.heatmap(conf_matrix, annot=True, fmt='d', cmap='Blues', xticklabels=['Non-Rock', 'Rock'], yticklabels=['Non-Rock', 'Rock'])\n",
    "plt.xlabel('Predicted Label')\n",
    "plt.ylabel('True Label')\n",
    "plt.title('Confusion Matrix Visualization')\n",
    "plt.show()"
   ]
  },
  {
   "cell_type": "markdown",
   "id": "687c799c",
   "metadata": {},
   "source": [
    "The performance metrics given indicate the following about the logistic regression model:\n",
    "\n",
    "1.Accuracy (0.58 or 59%): This metric tells us that 59% of the total predictions made by the model were correct. While this is better than random guessing, it suggests that there's significant room for improvement.\n",
    "\n",
    "2.F1 Score (0.63 for class 1): The F1 score for the positive class (which we can assume to be survivors) is relatively higher than the F1 score for the negative class. This score is the harmonic mean of precision and recall, giving us a sense of the balance between these two metrics.\n",
    "\n",
    "3.Weighted F1 Score (0.58): This takes into account the F1 score of each class, weighted by the number of samples in each class. It is lower than the F1 score for the positive class, indicating that the model is performing worse on the less represented class.\n",
    "\n",
    "The confusion matrix provides a deeper insight:\n",
    "\n",
    "**Confusion Matrix:**\n",
    "\n",
    "[12 10]: Of the 22 albums that were not Rock, the model correctly identified 12 as not survivors (true negatives), but incorrectly labeled 12 as survivors (false positives).\n",
    "\n",
    "[13 20]: Of the 33 Rock albums, the model correctly identified 20 as survivors (true positives), but 29 were incorrectly labeled as not survivors (false negatives)."
   ]
  },
  {
   "cell_type": "markdown",
   "id": "5c2e2fc0",
   "metadata": {},
   "source": [
    "## Conclusion\n",
    "\n",
    "In summary, while the model is reasonably good at identifying survivors, it struggles with identifying non-survivors, often confusing them with survivors. The model is particularly weak in terms of precision for non-survivors, indicating a tendency to label passages as survivors even when they are not. This could potentially be addressed by gathering more balanced data, feature engineering, or trying different model architectures or hyperparameters."
   ]
  }
 ],
 "metadata": {
  "kernelspec": {
   "display_name": "Python 3 (ipykernel)",
   "language": "python",
   "name": "python3"
  },
  "language_info": {
   "codemirror_mode": {
    "name": "ipython",
    "version": 3
   },
   "file_extension": ".py",
   "mimetype": "text/x-python",
   "name": "python",
   "nbconvert_exporter": "python",
   "pygments_lexer": "ipython3",
   "version": "3.11.5"
  }
 },
 "nbformat": 4,
 "nbformat_minor": 5
}
